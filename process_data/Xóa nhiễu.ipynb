{
 "cells": [
  {
   "cell_type": "code",
   "execution_count": null,
   "metadata": {},
   "outputs": [],
   "source": [
    "import os, sys\n",
    "import cv2\n",
    "import numpy as np\n",
    "\n",
    "\n",
    "def convert_to_binary(img_grayscale):\n",
    "    img_binary = cv2.adaptiveThreshold(img_grayscale, \n",
    "                                       maxValue=255, \n",
    "                                       adaptiveMethod=cv2.ADAPTIVE_THRESH_MEAN_C, \n",
    "                                       thresholdType=cv2.THRESH_BINARY,\n",
    "                                       blockSize=11,\n",
    "                                       C=6)\n",
    "    return img_binary\n",
    "def display(i,img_grayscale):\n",
    "    blur = cv2.bilateralFilter(img_grayscale, 5, 75, 75)\n",
    "    blur_rgb = convert_to_binary(blur)\n",
    "    blur_next = cv2.GaussianBlur(blur_rgb,(3,3),0)\n",
    "    path = \"C:/Users/THE TAM/Desktop/{}.jpg\"\n",
    "    path = path.format(i);\n",
    "    cv2.imwrite(path,blur_next)\n",
    "\n",
    "for i in range (1,2):\n",
    "    input_image_path = \"C:\\\\Users\\\\THE TAM\\\\Desktop\\\\aaaa.jpg\"\n",
    "    #input_image_path = input_image_path.format(i);\n",
    "    img_grayscale = cv2.imread(input_image_path, cv2.IMREAD_GRAYSCALE)\n",
    "    j=i+1;\n",
    "    display(j,img_grayscale);\n",
    "    "
   ]
  }
 ],
 "metadata": {
  "kernelspec": {
   "display_name": "Python 3",
   "language": "python",
   "name": "python3"
  },
  "language_info": {
   "codemirror_mode": {
    "name": "ipython",
    "version": 3
   },
   "file_extension": ".py",
   "mimetype": "text/x-python",
   "name": "python",
   "nbconvert_exporter": "python",
   "pygments_lexer": "ipython3",
   "version": "3.7.6"
  }
 },
 "nbformat": 4,
 "nbformat_minor": 4
}
